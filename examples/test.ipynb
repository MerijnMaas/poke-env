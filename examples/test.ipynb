{
 "cells": [
  {
   "cell_type": "code",
   "execution_count": 3,
   "metadata": {},
   "outputs": [
    {
     "data": {
      "text/plain": [
       "Ellipsis"
      ]
     },
     "execution_count": 3,
     "metadata": {},
     "output_type": "execute_result"
    }
   ],
   "source": [
    "import numpy as np\n",
    "from gymnasium.spaces import Space, Box\n",
    "from poke_env.player import Gen8EnvSinglePlayer\n",
    "\n",
    "from poke_env.environment.abstract_battle import AbstractBattle\n",
    "from poke_env.player import (\n",
    "    Gen8EnvSinglePlayer,\n",
    "    MaxBasePowerPlayer,\n",
    "    ObsType,\n",
    "    RandomPlayer,\n",
    "    SimpleHeuristicsPlayer,\n",
    "    background_cross_evaluate,\n",
    "    background_evaluate_player,\n",
    ")\n",
    "\n",
    "class SimpleRLPlayer(Gen8EnvSinglePlayer):\n",
    "    def calc_reward(self, last_battle, current_battle) -> float:\n",
    "        return self.reward_computing_helper(\n",
    "            current_battle, fainted_value=2.0, hp_value=1.0, victory_value=30.0\n",
    "        )\n",
    "\n",
    "    def embed_battle(self, battle: AbstractBattle) -> ObsType:\n",
    "        # -1 indicates that the move does not have a base power\n",
    "        # or is not available\n",
    "        moves_base_power = -np.ones(4)\n",
    "        moves_dmg_multiplier = np.ones(4)\n",
    "        for i, move in enumerate(battle.available_moves):\n",
    "            moves_base_power[i] = (\n",
    "                move.base_power / 100\n",
    "            )  # Simple rescaling to facilitate learning\n",
    "            if move.type:\n",
    "                moves_dmg_multiplier[i] = move.type.damage_multiplier(\n",
    "                    battle.opponent_active_pokemon.type_1,\n",
    "                    battle.opponent_active_pokemon.type_2,\n",
    "                )\n",
    "\n",
    "        # We count how many pokemons have fainted in each team\n",
    "        fainted_mon_team = len([mon for mon in battle.team.values() if mon.fainted]) / 6\n",
    "        fainted_mon_opponent = (\n",
    "            len([mon for mon in battle.opponent_team.values() if mon.fainted]) / 6\n",
    "        )\n",
    "\n",
    "        # Final vector with 10 components\n",
    "        final_vector = np.concatenate(\n",
    "            [\n",
    "                moves_base_power,\n",
    "                moves_dmg_multiplier,\n",
    "                [fainted_mon_team, fainted_mon_opponent],\n",
    "            ]\n",
    "        )\n",
    "        return np.float32(final_vector)\n",
    "\n",
    "    def describe_embedding(self) -> Space:\n",
    "        low = [-1, -1, -1, -1, 0, 0, 0, 0, 0, 0]\n",
    "        high = [3, 3, 3, 3, 4, 4, 4, 4, 1, 1]\n",
    "        return Box(\n",
    "            np.array(low, dtype=np.float32),\n",
    "            np.array(high, dtype=np.float32),\n",
    "            dtype=np.float32,\n",
    "        )\n",
    "\n",
    "..."
   ]
  },
  {
   "cell_type": "code",
   "execution_count": null,
   "metadata": {},
   "outputs": [
    {
     "name": "stderr",
     "output_type": "stream",
     "text": [
      "2024-11-25 11:21:33,792 - SimpleRLPlayer 2 - ERROR - Unhandled exception raised while handling message:\n",
      ">battle-gen8randombattle-228\n",
      "|player|p2|RandomPlayer 2|2|\n",
      "|teamsize|p1|6\n",
      "|teamsize|p2|6\n",
      "|gen|8\n",
      "|tier|[Gen 8] Random Battle\n",
      "|rule|Species Clause: Limit one of each Pokémon\n",
      "|rule|HP Percentage Mod: HP is shown in percentages\n",
      "|rule|Sleep Clause Mod: Limit one foe put to sleep\n",
      "|rule|Illusion Level Mod: Illusion disguises the Pokémon's true level\n",
      "|\n",
      "|t:|1732530093\n",
      "|start\n",
      "|switch|p1a: Inteleon|Inteleon, L80, F|243/243\n",
      "|switch|p2a: Coalossal|Coalossal, L88, M|100/100\n",
      "|turn|1\n",
      "Traceback (most recent call last):\n",
      "  File \"c:\\Users\\maasm\\.virtualenvs\\ws_7-R81_JQuk\\lib\\site-packages\\poke_env\\ps_client\\ps_client.py\", line 135, in _handle_message\n",
      "    await self._handle_battle_message(split_messages)  # type: ignore\n",
      "  File \"c:\\Users\\maasm\\.virtualenvs\\ws_7-R81_JQuk\\lib\\site-packages\\poke_env\\player\\player.py\", line 351, in _handle_battle_message\n",
      "    await self._handle_battle_request(battle)\n",
      "  File \"c:\\Users\\maasm\\.virtualenvs\\ws_7-R81_JQuk\\lib\\site-packages\\poke_env\\player\\player.py\", line 377, in _handle_battle_request\n",
      "    message = await message\n",
      "  File \"c:\\Users\\maasm\\.virtualenvs\\ws_7-R81_JQuk\\lib\\site-packages\\poke_env\\player\\openai_api.py\", line 85, in _env_move\n",
      "    battle_to_send = self._user_funcs.embed_battle(battle)\n",
      "  File \"C:\\Users\\maasm\\AppData\\Local\\Temp\\ipykernel_15040\\2444063452.py\", line 32, in embed_battle\n",
      "    moves_dmg_multiplier[i] = move.type.damage_multiplier(\n",
      "TypeError: damage_multiplier() missing 1 required keyword-only argument: 'type_chart'\n"
     ]
    }
   ],
   "source": [
    "from gymnasium.utils.env_checker import check_env\n",
    "from poke_env.player import RandomPlayer\n",
    "\n",
    "opponent = RandomPlayer(battle_format=\"gen8randombattle\")\n",
    "test_env = SimpleRLPlayer(\n",
    "    battle_format=\"gen8randombattle\", opponent=opponent, start_challenging=True\n",
    ")\n",
    "check_env(test_env)\n",
    "test_env.close()"
   ]
  }
 ],
 "metadata": {
  "kernelspec": {
   "display_name": "ws_7-R81_JQuk",
   "language": "python",
   "name": "python3"
  },
  "language_info": {
   "codemirror_mode": {
    "name": "ipython",
    "version": 3
   },
   "file_extension": ".py",
   "mimetype": "text/x-python",
   "name": "python",
   "nbconvert_exporter": "python",
   "pygments_lexer": "ipython3",
   "version": "3.9.7"
  }
 },
 "nbformat": 4,
 "nbformat_minor": 2
}
